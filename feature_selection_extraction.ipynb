{
 "cells": [
  {
   "cell_type": "code",
   "execution_count": 90,
   "id": "2a216f2b-cdc0-4a37-aaff-eed8a17bfecb",
   "metadata": {},
   "outputs": [],
   "source": [
    "import numpy as np\n",
    "import pandas as pd\n",
    "from ydata_profiling import ProfileReport\n",
    "import pylab as plt\n",
    "%matplotlib inline"
   ]
  },
  {
   "cell_type": "code",
   "execution_count": 91,
   "id": "588b7571-d488-4c68-aa3d-c4f00e190333",
   "metadata": {},
   "outputs": [],
   "source": [
    "filename = \"water_potability.csv\""
   ]
  },
  {
   "cell_type": "code",
   "execution_count": 92,
   "id": "0497ee77-a460-49cd-8468-4b46e33ea873",
   "metadata": {},
   "outputs": [],
   "source": [
    "data = pd.read_csv(filename)"
   ]
  },
  {
   "cell_type": "code",
   "execution_count": 93,
   "id": "29d7635e-774d-488e-8a30-9a15d4dcbd21",
   "metadata": {},
   "outputs": [],
   "source": [
    "profile = ProfileReport(data, title=\"Water Potability data Profiling Report\")"
   ]
  },
  {
   "cell_type": "code",
   "execution_count": 94,
   "id": "48bb6845-5706-4006-a783-f6435aae0ba1",
   "metadata": {},
   "outputs": [
    {
     "data": {
      "application/vnd.jupyter.widget-view+json": {
       "model_id": "92024a28bf7a4379b1ac2b6bb811bda7",
       "version_major": 2,
       "version_minor": 0
      },
      "text/plain": [
       "Summarize dataset:   0%|          | 0/5 [00:00<?, ?it/s]"
      ]
     },
     "metadata": {},
     "output_type": "display_data"
    },
    {
     "data": {
      "application/vnd.jupyter.widget-view+json": {
       "model_id": "76c46c91ae2c469c9c2c28a9d9b933de",
       "version_major": 2,
       "version_minor": 0
      },
      "text/plain": [
       "Generate report structure:   0%|          | 0/1 [00:00<?, ?it/s]"
      ]
     },
     "metadata": {},
     "output_type": "display_data"
    },
    {
     "data": {
      "application/vnd.jupyter.widget-view+json": {
       "model_id": "9db4a6823e5b4aa49151264928b1052c",
       "version_major": 2,
       "version_minor": 0
      },
      "text/plain": [
       "Render widgets:   0%|          | 0/1 [00:00<?, ?it/s]"
      ]
     },
     "metadata": {},
     "output_type": "display_data"
    },
    {
     "data": {
      "application/vnd.jupyter.widget-view+json": {
       "model_id": "fde220342c99431c81ecfeebaa79d5da",
       "version_major": 2,
       "version_minor": 0
      },
      "text/plain": [
       "VBox(children=(Tab(children=(Tab(children=(GridBox(children=(VBox(children=(GridspecLayout(children=(HTML(valu…"
      ]
     },
     "metadata": {},
     "output_type": "display_data"
    }
   ],
   "source": [
    "profile.to_widgets()"
   ]
  },
  {
   "cell_type": "markdown",
   "id": "b57b607e-de2b-406e-93cc-e28777898126",
   "metadata": {},
   "source": [
    "## Feature selection"
   ]
  },
  {
   "cell_type": "code",
   "execution_count": 95,
   "id": "81ca4ade-a0ef-422e-b279-b258c073360c",
   "metadata": {},
   "outputs": [],
   "source": [
    "from sklearn.feature_selection import SelectKBest\n",
    "from sklearn.feature_selection import chi2"
   ]
  },
  {
   "cell_type": "code",
   "execution_count": 96,
   "id": "5166da6a-1e4e-409a-9de6-c7de73718ee3",
   "metadata": {},
   "outputs": [
    {
     "data": {
      "text/plain": [
       "ph                 float64\n",
       "Hardness           float64\n",
       "Solids             float64\n",
       "Chloramines        float64\n",
       "Sulfate            float64\n",
       "Conductivity       float64\n",
       "Organic_carbon     float64\n",
       "Trihalomethanes    float64\n",
       "Turbidity          float64\n",
       "Potability           int64\n",
       "dtype: object"
      ]
     },
     "execution_count": 96,
     "metadata": {},
     "output_type": "execute_result"
    }
   ],
   "source": [
    "data.dtypes"
   ]
  },
  {
   "cell_type": "code",
   "execution_count": 97,
   "id": "90949803-e445-4c58-92a8-c4f7830a941f",
   "metadata": {},
   "outputs": [],
   "source": [
    "listconverttolabel = [\"Chloramines\",\"Trihalomethanes\",'Turbidity','ph' ] #dsini ak pke smua parameter yg ngaruh \n",
    "\n",
    "for i in range(len(listconverttolabel)):\n",
    "    data[listconverttolabel[i]] = data[listconverttolabel[i]].astype('category')\n",
    "    data[listconverttolabel[i]+\"_cat\"] = data[listconverttolabel[i]].cat.codes"
   ]
  },
  {
   "cell_type": "code",
   "execution_count": 98,
   "id": "dfd6594c-bf04-4577-b3d1-b989dc628d50",
   "metadata": {},
   "outputs": [],
   "source": [
    "data = data.drop(columns=listconverttolabel) #membuang alert, net dkk"
   ]
  },
  {
   "cell_type": "code",
   "execution_count": 99,
   "id": "f0599b7b-e0bd-4d29-99ab-26afa759dd8f",
   "metadata": {},
   "outputs": [
    {
     "data": {
      "text/plain": [
       "Hardness               float64\n",
       "Solids                 float64\n",
       "Sulfate                float64\n",
       "Conductivity           float64\n",
       "Organic_carbon         float64\n",
       "Potability               int64\n",
       "Chloramines_cat          int16\n",
       "Trihalomethanes_cat      int16\n",
       "Turbidity_cat            int16\n",
       "ph_cat                   int16\n",
       "dtype: object"
      ]
     },
     "execution_count": 99,
     "metadata": {},
     "output_type": "execute_result"
    }
   ],
   "source": [
    "data.dtypes"
   ]
  },
  {
   "cell_type": "code",
   "execution_count": 100,
   "id": "5fdcafe6-5abc-4128-8039-531a12d0e4f9",
   "metadata": {},
   "outputs": [],
   "source": [
    "y = data[\"Potability\"]\n",
    "X = data.drop(columns=[\"Potability\", \"Hardness\", \"Solids\", \"Conductivity\",\"Sulfate\", \"Organic_carbon\", ]) #dibuang smua wkkw gtw bnr g"
   ]
  },
  {
   "cell_type": "code",
   "execution_count": 101,
   "id": "e6263ea4",
   "metadata": {},
   "outputs": [],
   "source": [
    "data = data.dropna() #bs di skip krn di atas udh di drop"
   ]
  },
  {
   "cell_type": "code",
   "execution_count": 102,
   "id": "31de9a8e",
   "metadata": {},
   "outputs": [
    {
     "data": {
      "text/html": [
       "<div>\n",
       "<style scoped>\n",
       "    .dataframe tbody tr th:only-of-type {\n",
       "        vertical-align: middle;\n",
       "    }\n",
       "\n",
       "    .dataframe tbody tr th {\n",
       "        vertical-align: top;\n",
       "    }\n",
       "\n",
       "    .dataframe thead th {\n",
       "        text-align: right;\n",
       "    }\n",
       "</style>\n",
       "<table border=\"1\" class=\"dataframe\">\n",
       "  <thead>\n",
       "    <tr style=\"text-align: right;\">\n",
       "      <th></th>\n",
       "      <th>Hardness</th>\n",
       "      <th>Solids</th>\n",
       "      <th>Sulfate</th>\n",
       "      <th>Conductivity</th>\n",
       "      <th>Organic_carbon</th>\n",
       "      <th>Potability</th>\n",
       "      <th>Chloramines_cat</th>\n",
       "      <th>Trihalomethanes_cat</th>\n",
       "      <th>Turbidity_cat</th>\n",
       "      <th>ph_cat</th>\n",
       "    </tr>\n",
       "  </thead>\n",
       "  <tbody>\n",
       "    <tr>\n",
       "      <th>count</th>\n",
       "      <td>2495.000000</td>\n",
       "      <td>2495.000000</td>\n",
       "      <td>2495.000000</td>\n",
       "      <td>2495.000000</td>\n",
       "      <td>2495.000000</td>\n",
       "      <td>2495.000000</td>\n",
       "      <td>2495.000000</td>\n",
       "      <td>2495.000000</td>\n",
       "      <td>2495.000000</td>\n",
       "      <td>2495.000000</td>\n",
       "    </tr>\n",
       "    <tr>\n",
       "      <th>mean</th>\n",
       "      <td>196.213489</td>\n",
       "      <td>22065.860761</td>\n",
       "      <td>333.775777</td>\n",
       "      <td>425.529584</td>\n",
       "      <td>14.328318</td>\n",
       "      <td>0.394790</td>\n",
       "      <td>1636.663727</td>\n",
       "      <td>1474.083367</td>\n",
       "      <td>1638.410822</td>\n",
       "      <td>1180.297796</td>\n",
       "    </tr>\n",
       "    <tr>\n",
       "      <th>std</th>\n",
       "      <td>32.689075</td>\n",
       "      <td>8763.541797</td>\n",
       "      <td>41.416840</td>\n",
       "      <td>80.774995</td>\n",
       "      <td>3.308675</td>\n",
       "      <td>0.488903</td>\n",
       "      <td>948.327011</td>\n",
       "      <td>935.682511</td>\n",
       "      <td>946.966156</td>\n",
       "      <td>893.000158</td>\n",
       "    </tr>\n",
       "    <tr>\n",
       "      <th>min</th>\n",
       "      <td>47.432000</td>\n",
       "      <td>320.942611</td>\n",
       "      <td>129.000000</td>\n",
       "      <td>201.619737</td>\n",
       "      <td>2.200000</td>\n",
       "      <td>0.000000</td>\n",
       "      <td>0.000000</td>\n",
       "      <td>-1.000000</td>\n",
       "      <td>0.000000</td>\n",
       "      <td>-1.000000</td>\n",
       "    </tr>\n",
       "    <tr>\n",
       "      <th>25%</th>\n",
       "      <td>176.855409</td>\n",
       "      <td>15623.966291</td>\n",
       "      <td>307.699498</td>\n",
       "      <td>365.210558</td>\n",
       "      <td>12.084461</td>\n",
       "      <td>0.000000</td>\n",
       "      <td>811.500000</td>\n",
       "      <td>648.500000</td>\n",
       "      <td>809.500000</td>\n",
       "      <td>324.500000</td>\n",
       "    </tr>\n",
       "    <tr>\n",
       "      <th>50%</th>\n",
       "      <td>197.142637</td>\n",
       "      <td>21043.626929</td>\n",
       "      <td>333.073546</td>\n",
       "      <td>421.625238</td>\n",
       "      <td>14.254641</td>\n",
       "      <td>0.000000</td>\n",
       "      <td>1643.000000</td>\n",
       "      <td>1469.000000</td>\n",
       "      <td>1656.000000</td>\n",
       "      <td>1143.000000</td>\n",
       "    </tr>\n",
       "    <tr>\n",
       "      <th>75%</th>\n",
       "      <td>216.421982</td>\n",
       "      <td>27372.857057</td>\n",
       "      <td>359.950170</td>\n",
       "      <td>481.037109</td>\n",
       "      <td>16.620006</td>\n",
       "      <td>1.000000</td>\n",
       "      <td>2448.500000</td>\n",
       "      <td>2276.500000</td>\n",
       "      <td>2463.000000</td>\n",
       "      <td>1958.500000</td>\n",
       "    </tr>\n",
       "    <tr>\n",
       "      <th>max</th>\n",
       "      <td>317.338124</td>\n",
       "      <td>61227.196008</td>\n",
       "      <td>481.030642</td>\n",
       "      <td>753.342620</td>\n",
       "      <td>27.006707</td>\n",
       "      <td>1.000000</td>\n",
       "      <td>3275.000000</td>\n",
       "      <td>3113.000000</td>\n",
       "      <td>3275.000000</td>\n",
       "      <td>2784.000000</td>\n",
       "    </tr>\n",
       "  </tbody>\n",
       "</table>\n",
       "</div>"
      ],
      "text/plain": [
       "          Hardness        Solids      Sulfate  Conductivity  Organic_carbon  \\\n",
       "count  2495.000000   2495.000000  2495.000000   2495.000000     2495.000000   \n",
       "mean    196.213489  22065.860761   333.775777    425.529584       14.328318   \n",
       "std      32.689075   8763.541797    41.416840     80.774995        3.308675   \n",
       "min      47.432000    320.942611   129.000000    201.619737        2.200000   \n",
       "25%     176.855409  15623.966291   307.699498    365.210558       12.084461   \n",
       "50%     197.142637  21043.626929   333.073546    421.625238       14.254641   \n",
       "75%     216.421982  27372.857057   359.950170    481.037109       16.620006   \n",
       "max     317.338124  61227.196008   481.030642    753.342620       27.006707   \n",
       "\n",
       "        Potability  Chloramines_cat  Trihalomethanes_cat  Turbidity_cat  \\\n",
       "count  2495.000000      2495.000000          2495.000000    2495.000000   \n",
       "mean      0.394790      1636.663727          1474.083367    1638.410822   \n",
       "std       0.488903       948.327011           935.682511     946.966156   \n",
       "min       0.000000         0.000000            -1.000000       0.000000   \n",
       "25%       0.000000       811.500000           648.500000     809.500000   \n",
       "50%       0.000000      1643.000000          1469.000000    1656.000000   \n",
       "75%       1.000000      2448.500000          2276.500000    2463.000000   \n",
       "max       1.000000      3275.000000          3113.000000    3275.000000   \n",
       "\n",
       "            ph_cat  \n",
       "count  2495.000000  \n",
       "mean   1180.297796  \n",
       "std     893.000158  \n",
       "min      -1.000000  \n",
       "25%     324.500000  \n",
       "50%    1143.000000  \n",
       "75%    1958.500000  \n",
       "max    2784.000000  "
      ]
     },
     "execution_count": 102,
     "metadata": {},
     "output_type": "execute_result"
    }
   ],
   "source": [
    "data.describe()"
   ]
  },
  {
   "cell_type": "code",
   "execution_count": 103,
   "id": "849d9581-373e-4490-91bf-6e76c1aff355",
   "metadata": {},
   "outputs": [
    {
     "data": {
      "text/plain": [
       "Chloramines_cat        int16\n",
       "Trihalomethanes_cat    int16\n",
       "Turbidity_cat          int16\n",
       "ph_cat                 int16\n",
       "dtype: object"
      ]
     },
     "execution_count": 103,
     "metadata": {},
     "output_type": "execute_result"
    }
   ],
   "source": [
    "X.dtypes"
   ]
  },
  {
   "cell_type": "code",
   "execution_count": 104,
   "id": "d3d50d2e",
   "metadata": {},
   "outputs": [],
   "source": [
    "data['Chloramines_cat'] = data['Chloramines_cat'].replace(-1, 0)\n",
    "data['Trihalomethanes_cat'] = data['Trihalomethanes_cat'].replace(-1, 0)\n",
    "data['ph_cat'] = data['ph_cat'].replace(-1, 0)"
   ]
  },
  {
   "cell_type": "code",
   "execution_count": 107,
   "id": "c47caa01",
   "metadata": {},
   "outputs": [
    {
     "data": {
      "text/html": [
       "<div>\n",
       "<style scoped>\n",
       "    .dataframe tbody tr th:only-of-type {\n",
       "        vertical-align: middle;\n",
       "    }\n",
       "\n",
       "    .dataframe tbody tr th {\n",
       "        vertical-align: top;\n",
       "    }\n",
       "\n",
       "    .dataframe thead th {\n",
       "        text-align: right;\n",
       "    }\n",
       "</style>\n",
       "<table border=\"1\" class=\"dataframe\">\n",
       "  <thead>\n",
       "    <tr style=\"text-align: right;\">\n",
       "      <th></th>\n",
       "      <th>Hardness</th>\n",
       "      <th>Solids</th>\n",
       "      <th>Sulfate</th>\n",
       "      <th>Conductivity</th>\n",
       "      <th>Organic_carbon</th>\n",
       "      <th>Potability</th>\n",
       "      <th>Chloramines_cat</th>\n",
       "      <th>Trihalomethanes_cat</th>\n",
       "      <th>Turbidity_cat</th>\n",
       "      <th>ph_cat</th>\n",
       "    </tr>\n",
       "  </thead>\n",
       "  <tbody>\n",
       "    <tr>\n",
       "      <th>count</th>\n",
       "      <td>2495.000000</td>\n",
       "      <td>2495.000000</td>\n",
       "      <td>2495.000000</td>\n",
       "      <td>2495.000000</td>\n",
       "      <td>2495.000000</td>\n",
       "      <td>2495.000000</td>\n",
       "      <td>2495.000000</td>\n",
       "      <td>2495.000000</td>\n",
       "      <td>2495.000000</td>\n",
       "      <td>2495.000000</td>\n",
       "    </tr>\n",
       "    <tr>\n",
       "      <th>mean</th>\n",
       "      <td>196.213489</td>\n",
       "      <td>22065.860761</td>\n",
       "      <td>333.775777</td>\n",
       "      <td>425.529584</td>\n",
       "      <td>14.328318</td>\n",
       "      <td>0.394790</td>\n",
       "      <td>1636.663727</td>\n",
       "      <td>1474.132265</td>\n",
       "      <td>1638.410822</td>\n",
       "      <td>1180.449699</td>\n",
       "    </tr>\n",
       "    <tr>\n",
       "      <th>std</th>\n",
       "      <td>32.689075</td>\n",
       "      <td>8763.541797</td>\n",
       "      <td>41.416840</td>\n",
       "      <td>80.774995</td>\n",
       "      <td>3.308675</td>\n",
       "      <td>0.488903</td>\n",
       "      <td>948.327011</td>\n",
       "      <td>935.605415</td>\n",
       "      <td>946.966156</td>\n",
       "      <td>892.799182</td>\n",
       "    </tr>\n",
       "    <tr>\n",
       "      <th>min</th>\n",
       "      <td>47.432000</td>\n",
       "      <td>320.942611</td>\n",
       "      <td>129.000000</td>\n",
       "      <td>201.619737</td>\n",
       "      <td>2.200000</td>\n",
       "      <td>0.000000</td>\n",
       "      <td>0.000000</td>\n",
       "      <td>0.000000</td>\n",
       "      <td>0.000000</td>\n",
       "      <td>0.000000</td>\n",
       "    </tr>\n",
       "    <tr>\n",
       "      <th>25%</th>\n",
       "      <td>176.855409</td>\n",
       "      <td>15623.966291</td>\n",
       "      <td>307.699498</td>\n",
       "      <td>365.210558</td>\n",
       "      <td>12.084461</td>\n",
       "      <td>0.000000</td>\n",
       "      <td>811.500000</td>\n",
       "      <td>648.500000</td>\n",
       "      <td>809.500000</td>\n",
       "      <td>324.500000</td>\n",
       "    </tr>\n",
       "    <tr>\n",
       "      <th>50%</th>\n",
       "      <td>197.142637</td>\n",
       "      <td>21043.626929</td>\n",
       "      <td>333.073546</td>\n",
       "      <td>421.625238</td>\n",
       "      <td>14.254641</td>\n",
       "      <td>0.000000</td>\n",
       "      <td>1643.000000</td>\n",
       "      <td>1469.000000</td>\n",
       "      <td>1656.000000</td>\n",
       "      <td>1143.000000</td>\n",
       "    </tr>\n",
       "    <tr>\n",
       "      <th>75%</th>\n",
       "      <td>216.421982</td>\n",
       "      <td>27372.857057</td>\n",
       "      <td>359.950170</td>\n",
       "      <td>481.037109</td>\n",
       "      <td>16.620006</td>\n",
       "      <td>1.000000</td>\n",
       "      <td>2448.500000</td>\n",
       "      <td>2276.500000</td>\n",
       "      <td>2463.000000</td>\n",
       "      <td>1958.500000</td>\n",
       "    </tr>\n",
       "    <tr>\n",
       "      <th>max</th>\n",
       "      <td>317.338124</td>\n",
       "      <td>61227.196008</td>\n",
       "      <td>481.030642</td>\n",
       "      <td>753.342620</td>\n",
       "      <td>27.006707</td>\n",
       "      <td>1.000000</td>\n",
       "      <td>3275.000000</td>\n",
       "      <td>3113.000000</td>\n",
       "      <td>3275.000000</td>\n",
       "      <td>2784.000000</td>\n",
       "    </tr>\n",
       "  </tbody>\n",
       "</table>\n",
       "</div>"
      ],
      "text/plain": [
       "          Hardness        Solids      Sulfate  Conductivity  Organic_carbon  \\\n",
       "count  2495.000000   2495.000000  2495.000000   2495.000000     2495.000000   \n",
       "mean    196.213489  22065.860761   333.775777    425.529584       14.328318   \n",
       "std      32.689075   8763.541797    41.416840     80.774995        3.308675   \n",
       "min      47.432000    320.942611   129.000000    201.619737        2.200000   \n",
       "25%     176.855409  15623.966291   307.699498    365.210558       12.084461   \n",
       "50%     197.142637  21043.626929   333.073546    421.625238       14.254641   \n",
       "75%     216.421982  27372.857057   359.950170    481.037109       16.620006   \n",
       "max     317.338124  61227.196008   481.030642    753.342620       27.006707   \n",
       "\n",
       "        Potability  Chloramines_cat  Trihalomethanes_cat  Turbidity_cat  \\\n",
       "count  2495.000000      2495.000000          2495.000000    2495.000000   \n",
       "mean      0.394790      1636.663727          1474.132265    1638.410822   \n",
       "std       0.488903       948.327011           935.605415     946.966156   \n",
       "min       0.000000         0.000000             0.000000       0.000000   \n",
       "25%       0.000000       811.500000           648.500000     809.500000   \n",
       "50%       0.000000      1643.000000          1469.000000    1656.000000   \n",
       "75%       1.000000      2448.500000          2276.500000    2463.000000   \n",
       "max       1.000000      3275.000000          3113.000000    3275.000000   \n",
       "\n",
       "            ph_cat  \n",
       "count  2495.000000  \n",
       "mean   1180.449699  \n",
       "std     892.799182  \n",
       "min       0.000000  \n",
       "25%     324.500000  \n",
       "50%    1143.000000  \n",
       "75%    1958.500000  \n",
       "max    2784.000000  "
      ]
     },
     "execution_count": 107,
     "metadata": {},
     "output_type": "execute_result"
    }
   ],
   "source": [
    "data.describe()"
   ]
  },
  {
   "cell_type": "code",
   "execution_count": 123,
   "id": "665ded8d-363a-4202-a3db-bbfbeb17262d",
   "metadata": {},
   "outputs": [
    {
     "ename": "ValueError",
     "evalue": "Input X must be non-negative.",
     "output_type": "error",
     "traceback": [
      "\u001b[1;31m---------------------------------------------------------------------------\u001b[0m",
      "\u001b[1;31mValueError\u001b[0m                                Traceback (most recent call last)",
      "Cell \u001b[1;32mIn[123], line 4\u001b[0m\n\u001b[0;32m      1\u001b[0m nbest \u001b[38;5;241m=\u001b[39m \u001b[38;5;241m4\u001b[39m\n\u001b[0;32m      3\u001b[0m bestfeatures \u001b[38;5;241m=\u001b[39m SelectKBest(score_func\u001b[38;5;241m=\u001b[39mchi2, k\u001b[38;5;241m=\u001b[39mnbest)\n\u001b[1;32m----> 4\u001b[0m fit \u001b[38;5;241m=\u001b[39m \u001b[43mbestfeatures\u001b[49m\u001b[38;5;241;43m.\u001b[39;49m\u001b[43mfit\u001b[49m\u001b[43m(\u001b[49m\u001b[43mX\u001b[49m\u001b[43m,\u001b[49m\u001b[43my\u001b[49m\u001b[43m)\u001b[49m\n\u001b[0;32m      5\u001b[0m dfscores \u001b[38;5;241m=\u001b[39m pd\u001b[38;5;241m.\u001b[39mDataFrame(fit\u001b[38;5;241m.\u001b[39mscores_)\n\u001b[0;32m      6\u001b[0m dfcolumns \u001b[38;5;241m=\u001b[39m pd\u001b[38;5;241m.\u001b[39mDataFrame(X\u001b[38;5;241m.\u001b[39mcolumns)\n",
      "File \u001b[1;32mc:\\Users\\sekar\\anaconda3\\envs\\Kageo\\lib\\site-packages\\sklearn\\base.py:1473\u001b[0m, in \u001b[0;36m_fit_context.<locals>.decorator.<locals>.wrapper\u001b[1;34m(estimator, *args, **kwargs)\u001b[0m\n\u001b[0;32m   1466\u001b[0m     estimator\u001b[38;5;241m.\u001b[39m_validate_params()\n\u001b[0;32m   1468\u001b[0m \u001b[38;5;28;01mwith\u001b[39;00m config_context(\n\u001b[0;32m   1469\u001b[0m     skip_parameter_validation\u001b[38;5;241m=\u001b[39m(\n\u001b[0;32m   1470\u001b[0m         prefer_skip_nested_validation \u001b[38;5;129;01mor\u001b[39;00m global_skip_validation\n\u001b[0;32m   1471\u001b[0m     )\n\u001b[0;32m   1472\u001b[0m ):\n\u001b[1;32m-> 1473\u001b[0m     \u001b[38;5;28;01mreturn\u001b[39;00m fit_method(estimator, \u001b[38;5;241m*\u001b[39margs, \u001b[38;5;241m*\u001b[39m\u001b[38;5;241m*\u001b[39mkwargs)\n",
      "File \u001b[1;32mc:\\Users\\sekar\\anaconda3\\envs\\Kageo\\lib\\site-packages\\sklearn\\feature_selection\\_univariate_selection.py:567\u001b[0m, in \u001b[0;36m_BaseFilter.fit\u001b[1;34m(self, X, y)\u001b[0m\n\u001b[0;32m    562\u001b[0m     X, y \u001b[38;5;241m=\u001b[39m \u001b[38;5;28mself\u001b[39m\u001b[38;5;241m.\u001b[39m_validate_data(\n\u001b[0;32m    563\u001b[0m         X, y, accept_sparse\u001b[38;5;241m=\u001b[39m[\u001b[38;5;124m\"\u001b[39m\u001b[38;5;124mcsr\u001b[39m\u001b[38;5;124m\"\u001b[39m, \u001b[38;5;124m\"\u001b[39m\u001b[38;5;124mcsc\u001b[39m\u001b[38;5;124m\"\u001b[39m], multi_output\u001b[38;5;241m=\u001b[39m\u001b[38;5;28;01mTrue\u001b[39;00m\n\u001b[0;32m    564\u001b[0m     )\n\u001b[0;32m    566\u001b[0m \u001b[38;5;28mself\u001b[39m\u001b[38;5;241m.\u001b[39m_check_params(X, y)\n\u001b[1;32m--> 567\u001b[0m score_func_ret \u001b[38;5;241m=\u001b[39m \u001b[38;5;28;43mself\u001b[39;49m\u001b[38;5;241;43m.\u001b[39;49m\u001b[43mscore_func\u001b[49m\u001b[43m(\u001b[49m\u001b[43mX\u001b[49m\u001b[43m,\u001b[49m\u001b[43m \u001b[49m\u001b[43my\u001b[49m\u001b[43m)\u001b[49m\n\u001b[0;32m    568\u001b[0m \u001b[38;5;28;01mif\u001b[39;00m \u001b[38;5;28misinstance\u001b[39m(score_func_ret, (\u001b[38;5;28mlist\u001b[39m, \u001b[38;5;28mtuple\u001b[39m)):\n\u001b[0;32m    569\u001b[0m     \u001b[38;5;28mself\u001b[39m\u001b[38;5;241m.\u001b[39mscores_, \u001b[38;5;28mself\u001b[39m\u001b[38;5;241m.\u001b[39mpvalues_ \u001b[38;5;241m=\u001b[39m score_func_ret\n",
      "File \u001b[1;32mc:\\Users\\sekar\\anaconda3\\envs\\Kageo\\lib\\site-packages\\sklearn\\utils\\_param_validation.py:186\u001b[0m, in \u001b[0;36mvalidate_params.<locals>.decorator.<locals>.wrapper\u001b[1;34m(*args, **kwargs)\u001b[0m\n\u001b[0;32m    184\u001b[0m global_skip_validation \u001b[38;5;241m=\u001b[39m get_config()[\u001b[38;5;124m\"\u001b[39m\u001b[38;5;124mskip_parameter_validation\u001b[39m\u001b[38;5;124m\"\u001b[39m]\n\u001b[0;32m    185\u001b[0m \u001b[38;5;28;01mif\u001b[39;00m global_skip_validation:\n\u001b[1;32m--> 186\u001b[0m     \u001b[38;5;28;01mreturn\u001b[39;00m func(\u001b[38;5;241m*\u001b[39margs, \u001b[38;5;241m*\u001b[39m\u001b[38;5;241m*\u001b[39mkwargs)\n\u001b[0;32m    188\u001b[0m func_sig \u001b[38;5;241m=\u001b[39m signature(func)\n\u001b[0;32m    190\u001b[0m \u001b[38;5;66;03m# Map *args/**kwargs to the function signature\u001b[39;00m\n",
      "File \u001b[1;32mc:\\Users\\sekar\\anaconda3\\envs\\Kageo\\lib\\site-packages\\sklearn\\feature_selection\\_univariate_selection.py:266\u001b[0m, in \u001b[0;36mchi2\u001b[1;34m(X, y)\u001b[0m\n\u001b[0;32m    264\u001b[0m X \u001b[38;5;241m=\u001b[39m check_array(X, accept_sparse\u001b[38;5;241m=\u001b[39m\u001b[38;5;124m\"\u001b[39m\u001b[38;5;124mcsr\u001b[39m\u001b[38;5;124m\"\u001b[39m, dtype\u001b[38;5;241m=\u001b[39m(np\u001b[38;5;241m.\u001b[39mfloat64, np\u001b[38;5;241m.\u001b[39mfloat32))\n\u001b[0;32m    265\u001b[0m \u001b[38;5;28;01mif\u001b[39;00m np\u001b[38;5;241m.\u001b[39many((X\u001b[38;5;241m.\u001b[39mdata \u001b[38;5;28;01mif\u001b[39;00m issparse(X) \u001b[38;5;28;01melse\u001b[39;00m X) \u001b[38;5;241m<\u001b[39m \u001b[38;5;241m0\u001b[39m):\n\u001b[1;32m--> 266\u001b[0m     \u001b[38;5;28;01mraise\u001b[39;00m \u001b[38;5;167;01mValueError\u001b[39;00m(\u001b[38;5;124m\"\u001b[39m\u001b[38;5;124mInput X must be non-negative.\u001b[39m\u001b[38;5;124m\"\u001b[39m)\n\u001b[0;32m    268\u001b[0m \u001b[38;5;66;03m# Use a sparse representation for Y by default to reduce memory usage when\u001b[39;00m\n\u001b[0;32m    269\u001b[0m \u001b[38;5;66;03m# y has many unique classes.\u001b[39;00m\n\u001b[0;32m    270\u001b[0m Y \u001b[38;5;241m=\u001b[39m LabelBinarizer(sparse_output\u001b[38;5;241m=\u001b[39m\u001b[38;5;28;01mTrue\u001b[39;00m)\u001b[38;5;241m.\u001b[39mfit_transform(y)\n",
      "\u001b[1;31mValueError\u001b[0m: Input X must be non-negative."
     ]
    }
   ],
   "source": [
    "nbest = 4\n",
    "\n",
    "bestfeatures = SelectKBest(score_func=chi2, k=nbest)\n",
    "fit = bestfeatures.fit(X,y)\n",
    "dfscores = pd.DataFrame(fit.scores_)\n",
    "dfcolumns = pd.DataFrame(X.columns)\n",
    "\n",
    "featureScores = pd.concat([dfcolumns,dfscores],axis=1)\n",
    "featureScores.columns = [\"Features\", \"Score\"]\n",
    "print(featureScores.nlargest(nbest,\"Score\"))"
   ]
  },
  {
   "cell_type": "code",
   "execution_count": 106,
   "id": "81bff026",
   "metadata": {},
   "outputs": [
    {
     "data": {
      "text/html": [
       "<div>\n",
       "<style scoped>\n",
       "    .dataframe tbody tr th:only-of-type {\n",
       "        vertical-align: middle;\n",
       "    }\n",
       "\n",
       "    .dataframe tbody tr th {\n",
       "        vertical-align: top;\n",
       "    }\n",
       "\n",
       "    .dataframe thead th {\n",
       "        text-align: right;\n",
       "    }\n",
       "</style>\n",
       "<table border=\"1\" class=\"dataframe\">\n",
       "  <thead>\n",
       "    <tr style=\"text-align: right;\">\n",
       "      <th></th>\n",
       "      <th>Hardness</th>\n",
       "      <th>Solids</th>\n",
       "      <th>Sulfate</th>\n",
       "      <th>Conductivity</th>\n",
       "      <th>Organic_carbon</th>\n",
       "      <th>Potability</th>\n",
       "      <th>Chloramines_cat</th>\n",
       "      <th>Trihalomethanes_cat</th>\n",
       "      <th>Turbidity_cat</th>\n",
       "      <th>ph_cat</th>\n",
       "    </tr>\n",
       "  </thead>\n",
       "  <tbody>\n",
       "    <tr>\n",
       "      <th>count</th>\n",
       "      <td>2495.000000</td>\n",
       "      <td>2495.000000</td>\n",
       "      <td>2495.000000</td>\n",
       "      <td>2495.000000</td>\n",
       "      <td>2495.000000</td>\n",
       "      <td>2495.000000</td>\n",
       "      <td>2495.000000</td>\n",
       "      <td>2495.000000</td>\n",
       "      <td>2495.000000</td>\n",
       "      <td>2495.000000</td>\n",
       "    </tr>\n",
       "    <tr>\n",
       "      <th>mean</th>\n",
       "      <td>196.213489</td>\n",
       "      <td>22065.860761</td>\n",
       "      <td>333.775777</td>\n",
       "      <td>425.529584</td>\n",
       "      <td>14.328318</td>\n",
       "      <td>0.394790</td>\n",
       "      <td>1636.663727</td>\n",
       "      <td>1474.132265</td>\n",
       "      <td>1638.410822</td>\n",
       "      <td>1180.449699</td>\n",
       "    </tr>\n",
       "    <tr>\n",
       "      <th>std</th>\n",
       "      <td>32.689075</td>\n",
       "      <td>8763.541797</td>\n",
       "      <td>41.416840</td>\n",
       "      <td>80.774995</td>\n",
       "      <td>3.308675</td>\n",
       "      <td>0.488903</td>\n",
       "      <td>948.327011</td>\n",
       "      <td>935.605415</td>\n",
       "      <td>946.966156</td>\n",
       "      <td>892.799182</td>\n",
       "    </tr>\n",
       "    <tr>\n",
       "      <th>min</th>\n",
       "      <td>47.432000</td>\n",
       "      <td>320.942611</td>\n",
       "      <td>129.000000</td>\n",
       "      <td>201.619737</td>\n",
       "      <td>2.200000</td>\n",
       "      <td>0.000000</td>\n",
       "      <td>0.000000</td>\n",
       "      <td>0.000000</td>\n",
       "      <td>0.000000</td>\n",
       "      <td>0.000000</td>\n",
       "    </tr>\n",
       "    <tr>\n",
       "      <th>25%</th>\n",
       "      <td>176.855409</td>\n",
       "      <td>15623.966291</td>\n",
       "      <td>307.699498</td>\n",
       "      <td>365.210558</td>\n",
       "      <td>12.084461</td>\n",
       "      <td>0.000000</td>\n",
       "      <td>811.500000</td>\n",
       "      <td>648.500000</td>\n",
       "      <td>809.500000</td>\n",
       "      <td>324.500000</td>\n",
       "    </tr>\n",
       "    <tr>\n",
       "      <th>50%</th>\n",
       "      <td>197.142637</td>\n",
       "      <td>21043.626929</td>\n",
       "      <td>333.073546</td>\n",
       "      <td>421.625238</td>\n",
       "      <td>14.254641</td>\n",
       "      <td>0.000000</td>\n",
       "      <td>1643.000000</td>\n",
       "      <td>1469.000000</td>\n",
       "      <td>1656.000000</td>\n",
       "      <td>1143.000000</td>\n",
       "    </tr>\n",
       "    <tr>\n",
       "      <th>75%</th>\n",
       "      <td>216.421982</td>\n",
       "      <td>27372.857057</td>\n",
       "      <td>359.950170</td>\n",
       "      <td>481.037109</td>\n",
       "      <td>16.620006</td>\n",
       "      <td>1.000000</td>\n",
       "      <td>2448.500000</td>\n",
       "      <td>2276.500000</td>\n",
       "      <td>2463.000000</td>\n",
       "      <td>1958.500000</td>\n",
       "    </tr>\n",
       "    <tr>\n",
       "      <th>max</th>\n",
       "      <td>317.338124</td>\n",
       "      <td>61227.196008</td>\n",
       "      <td>481.030642</td>\n",
       "      <td>753.342620</td>\n",
       "      <td>27.006707</td>\n",
       "      <td>1.000000</td>\n",
       "      <td>3275.000000</td>\n",
       "      <td>3113.000000</td>\n",
       "      <td>3275.000000</td>\n",
       "      <td>2784.000000</td>\n",
       "    </tr>\n",
       "  </tbody>\n",
       "</table>\n",
       "</div>"
      ],
      "text/plain": [
       "          Hardness        Solids      Sulfate  Conductivity  Organic_carbon  \\\n",
       "count  2495.000000   2495.000000  2495.000000   2495.000000     2495.000000   \n",
       "mean    196.213489  22065.860761   333.775777    425.529584       14.328318   \n",
       "std      32.689075   8763.541797    41.416840     80.774995        3.308675   \n",
       "min      47.432000    320.942611   129.000000    201.619737        2.200000   \n",
       "25%     176.855409  15623.966291   307.699498    365.210558       12.084461   \n",
       "50%     197.142637  21043.626929   333.073546    421.625238       14.254641   \n",
       "75%     216.421982  27372.857057   359.950170    481.037109       16.620006   \n",
       "max     317.338124  61227.196008   481.030642    753.342620       27.006707   \n",
       "\n",
       "        Potability  Chloramines_cat  Trihalomethanes_cat  Turbidity_cat  \\\n",
       "count  2495.000000      2495.000000          2495.000000    2495.000000   \n",
       "mean      0.394790      1636.663727          1474.132265    1638.410822   \n",
       "std       0.488903       948.327011           935.605415     946.966156   \n",
       "min       0.000000         0.000000             0.000000       0.000000   \n",
       "25%       0.000000       811.500000           648.500000     809.500000   \n",
       "50%       0.000000      1643.000000          1469.000000    1656.000000   \n",
       "75%       1.000000      2448.500000          2276.500000    2463.000000   \n",
       "max       1.000000      3275.000000          3113.000000    3275.000000   \n",
       "\n",
       "            ph_cat  \n",
       "count  2495.000000  \n",
       "mean   1180.449699  \n",
       "std     892.799182  \n",
       "min       0.000000  \n",
       "25%     324.500000  \n",
       "50%    1143.000000  \n",
       "75%    1958.500000  \n",
       "max    2784.000000  "
      ]
     },
     "execution_count": 106,
     "metadata": {},
     "output_type": "execute_result"
    }
   ],
   "source": [
    "data.describe()"
   ]
  },
  {
   "cell_type": "code",
   "execution_count": 82,
   "id": "4fffbea7-1c07-4eb8-afb9-2637cf106c66",
   "metadata": {},
   "outputs": [],
   "source": [
    "from sklearn.feature_selection import f_classif"
   ]
  },
  {
   "cell_type": "code",
   "execution_count": 109,
   "id": "b97cda7e-3f9c-4b09-aa39-c583f9a6d845",
   "metadata": {},
   "outputs": [
    {
     "name": "stdout",
     "output_type": "stream",
     "text": [
      "              Features     Score\n",
      "0      Chloramines_cat  2.043780\n",
      "1  Trihalomethanes_cat  0.582468\n",
      "3               ph_cat  0.514516\n",
      "2        Turbidity_cat  0.003433\n"
     ]
    }
   ],
   "source": [
    "nbest = 4\n",
    "\n",
    "bestfeatures = SelectKBest(score_func=f_classif, k=nbest)\n",
    "fit = bestfeatures.fit(X,y)\n",
    "dfscores = pd.DataFrame(fit.scores_)\n",
    "dfcolumns = pd.DataFrame(X.columns)\n",
    "\n",
    "featureScores = pd.concat([dfcolumns,dfscores],axis=1)\n",
    "featureScores.columns = [\"Features\", \"Score\"]\n",
    "print(featureScores.nlargest(nbest,\"Score\"))"
   ]
  },
  {
   "cell_type": "markdown",
   "id": "88cefb89-96c5-4a36-82cc-6013851176f9",
   "metadata": {},
   "source": [
    "## Feature importance"
   ]
  },
  {
   "cell_type": "code",
   "execution_count": 85,
   "id": "98211bd2-5f67-4099-8b4a-e3a518f0590c",
   "metadata": {},
   "outputs": [],
   "source": [
    "from sklearn.ensemble import ExtraTreesClassifier\n",
    "import pylab as plt"
   ]
  },
  {
   "cell_type": "code",
   "execution_count": 110,
   "id": "eb7b0c70-6cd6-4422-9e14-02b967f0da42",
   "metadata": {},
   "outputs": [
    {
     "data": {
      "text/plain": [
       "Chloramines_cat        0.268198\n",
       "Turbidity_cat          0.249567\n",
       "Trihalomethanes_cat    0.245371\n",
       "ph_cat                 0.236863\n",
       "dtype: float64"
      ]
     },
     "execution_count": 110,
     "metadata": {},
     "output_type": "execute_result"
    }
   ],
   "source": [
    "model = ExtraTreesClassifier()\n",
    "model.fit(X,y)\n",
    "\n",
    "feature_importances = pd.Series(model.feature_importances_, index=X.columns)\n",
    "feature_importances.sort_values(axis=0,ascending=False)"
   ]
  },
  {
   "cell_type": "code",
   "execution_count": 87,
   "id": "07cf9070-5dd8-4732-82bf-acd07af08e19",
   "metadata": {},
   "outputs": [
    {
     "data": {
      "text/plain": [
       "pandas.core.series.Series"
      ]
     },
     "execution_count": 87,
     "metadata": {},
     "output_type": "execute_result"
    }
   ],
   "source": [
    "type(feature_importances)"
   ]
  },
  {
   "cell_type": "code",
   "execution_count": 116,
   "id": "0de16dda",
   "metadata": {},
   "outputs": [
    {
     "data": {
      "image/png": "[encoded data removed]",
      "text/plain": [
       "<Figure size 640x480 with 1 Axes>"
      ]
     },
     "metadata": {},
     "output_type": "display_data"
    }
   ],
   "source": [
    "feat_importances = pd.Series(model.feature_importances_, index=X.columns)\n",
    "feat_importances.nlargest(nbest).plot(kind='barh')\n",
    "plt.show()"
   ]
  },
  {
   "cell_type": "markdown",
   "id": "553b6f57",
   "metadata": {},
   "source": [
    "## Ekstraksi Fitur"
   ]
  },
  {
   "cell_type": "code",
   "execution_count": null,
   "id": "5bb54363",
   "metadata": {},
   "outputs": [],
   "source": []
  },
  {
   "cell_type": "markdown",
   "id": "5618ce15-5d02-427e-986c-3d38deba7f69",
   "metadata": {},
   "source": [
    "## Principal Component Analysis"
   ]
  },
  {
   "cell_type": "code",
   "execution_count": 88,
   "id": "2decfaef-ff67-4bc3-95e0-a3c1b0bd1b17",
   "metadata": {},
   "outputs": [],
   "source": [
    "from sklearn.decomposition import PCA"
   ]
  },
  {
   "cell_type": "code",
   "execution_count": 89,
   "id": "86b9f484-289a-4713-821f-1f048f415b52",
   "metadata": {},
   "outputs": [
    {
     "name": "stdout",
     "output_type": "stream",
     "text": [
      "[0.26416831 0.26237316 0.24739644 0.22606208]\n",
      "0.5265414763281053\n"
     ]
    }
   ],
   "source": [
    "pca_transformer = PCA(n_components=0.99)\n",
    "# flattenX = X.to_numpy().reshape((n, -1))\n",
    "pca_result = pca_transformer.fit_transform(X.to_numpy())\n",
    "\n",
    "print(pca_transformer.explained_variance_ratio_)\n",
    "print(pca_transformer.explained_variance_ratio_[:2].sum())"
   ]
  },
  {
   "cell_type": "code",
   "execution_count": 120,
   "id": "df07bee0",
   "metadata": {},
   "outputs": [
    {
     "name": "stdout",
     "output_type": "stream",
     "text": [
      "(1797, 64)\n",
      "[0 1 2 ... 8 9 8]\n",
      "[0.14890594 0.13618771 0.11794594 0.08409979 0.05782415 0.0491691\n",
      " 0.04315987 0.03661373 0.03353248 0.03078806 0.02372341 0.02272697\n",
      " 0.01821863]\n",
      "0.4030395858767508\n"
     ]
    }
   ],
   "source": [
    "from sklearn import datasets\n",
    "from sklearn.decomposition import PCA\n",
    "# Load the data\n",
    "digits_data = datasets.load_digits()\n",
    "n = len(digits_data.images)\n",
    "# Each image is represented as an 8-by-8 array.\n",
    "# Flatten this array as input to PCA.\n",
    "image_data = digits_data.images.reshape((n, -1))\n",
    "print(image_data.shape)\n",
    "# Groundtruth label of the number appearing in each image\n",
    "labels = digits_data.target\n",
    "print(labels)\n",
    "# Fit a PCA transformer to the dataset.\n",
    "# The number of components is automatically chosen to account for\n",
    "# at least 80% of the total variance.\n",
    "pca_transformer = PCA(n_components=0.8)\n",
    "pca_images = pca_transformer.fit_transform(image_data)\n",
    "print(pca_transformer.explained_variance_ratio_)\n",
    "print(pca_transformer.explained_variance_ratio_[:3].sum())"
   ]
  },
  {
   "cell_type": "code",
   "execution_count": 121,
   "id": "5e295a09",
   "metadata": {},
   "outputs": [
    {
     "data": {
      "text/plain": [
       "Text(0.5, 0, 'Principal component 3')"
      ]
     },
     "execution_count": 121,
     "metadata": {},
     "output_type": "execute_result"
    },
    {
     "data": {
      "image/png": "[encoded data removed]",
      "text/plain": [
       "<Figure size 640x480 with 1 Axes>"
      ]
     },
     "metadata": {},
     "output_type": "display_data"
    }
   ],
   "source": [
    "import matplotlib.pyplot as plt\n",
    "from mpl_toolkits.mplot3d import Axes3D\n",
    "fig = plt.figure()\n",
    "ax = fig.add_subplot(111, projection='3d')\n",
    "for i in range(100):\n",
    "    ax.scatter(pca_images[i,0], pca_images[i,1], pca_images[i,2], marker=r'${}$'.format(labels[i]), s=64)\n",
    "ax.set_xlabel('Principal component 1')\n",
    "ax.set_ylabel('Principal component 2')\n",
    "ax.set_zlabel('Principal component 3')"
   ]
  }
 ],
 "metadata": {
  "kernelspec": {
   "display_name": "Python 3 (ipykernel)",
   "language": "python",
   "name": "python3"
  },
  "language_info": {
   "codemirror_mode": {
    "name": "ipython",
    "version": 3
   },
   "file_extension": ".py",
   "mimetype": "text/x-python",
   "name": "python",
   "nbconvert_exporter": "python",
   "pygments_lexer": "ipython3",
   "version": "3.10.0"
  }
 },
 "nbformat": 4,
 "nbformat_minor": 5
}
